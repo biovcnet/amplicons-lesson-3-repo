{
 "cells": [
  {
   "cell_type": "markdown",
   "metadata": {},
   "source": [
    "# QIIME2 + DADA2  Demo\n",
    "## Amplicons Lesson 3a\n",
    "\n",
    "Liz Suter  \n",
    "BVCN\n",
    "\n",
    "This is a demo of running QIIME2 in a JupyterLab in the Cyverse Discovery Environment, utilizing DADA2 to call ASVs.\n",
    "\n",
    "This analysis replicates AstrobioMike's [amplicon analysis tutorial](https://astrobiomike.github.io/amplicon/dada2_workflow_ex#the-data) but by substituting a QIIME2 pipeline.  \n",
    "\n",
    "Before starting this tutorial, you should:\n",
    "\n",
    "- have a Cyverse account with the QIIME2 app set up in Discovery environment  \n",
    "OR\n",
    "- a local installation of [QIIME2](https://qiime2.org/)\n",
    "\n",
    "You will also need [the modified Happy Belly data files](https://github.com/biovcnet/amplicons-lesson-3-repo) from the data store loaded into your working environment. \n",
    "\n",
    "The instructions for setting up these prerequirements can be found at the BVCN amplicons Lesson 3a [page](https://github.com/biovcnet/topic-amplicons/tree/master/Lesson03a).\n",
    "_____\n",
    "\n",
    "### General workflow\n",
    "\n",
    "1. Initial Steps\n",
    "\t- Organizing your working environment\n",
    "\t- Checking your installations\n",
    "\n",
    "2. Import fastq files into QIIME2\n",
    "3. Remove primers\n",
    "4. Check quality of trimmed reads\n",
    "5. DADA2\n",
    "\t- Denoise\n",
    "\t- Generate the error model\n",
    "\t- Dereplicate\n",
    "\t- Remove chimeras\n",
    "\t- Merge reads\n",
    "\t- Infer ASVs\n",
    "\t- Generate the count table\n",
    "6. Assign Taxonomy\n",
    "7. Create a phylogenetic tree\n",
    "8. Export from QIIME2 and save\n",
    "\n",
    "\n",
    "_____\n",
    "\n",
    "\n",
    "\n",
    "\n",
    "_____\n"
   ]
  },
  {
   "cell_type": "markdown",
   "metadata": {},
   "source": [
    "### Initial Steps\n",
    "\n",
    "If you have been following along with the BVCN Amplicons Lesson 3a tutorial, then you should be able to see the `qiime2_wd` folder in our current environment, which has all of our fastq files in qiime2 format.\n",
    "\n",
    "\n",
    "Make a 'work' directory where all the generated files for this analysis will go. Move this notebook to that folder as well."
   ]
  },
  {
   "cell_type": "code",
   "execution_count": 19,
   "metadata": {},
   "outputs": [],
   "source": [
    "# mkdir work/"
   ]
  },
  {
   "cell_type": "markdown",
   "metadata": {},
   "source": [
    "Recall the difference between running normal Python commands, bash commands (using `!`), and iCommands in the Discovery Environment app:"
   ]
  },
  {
   "cell_type": "code",
   "execution_count": 15,
   "metadata": {},
   "outputs": [
    {
     "name": "stdout",
     "output_type": "stream",
     "text": [
      "\u001b[0m\u001b[01;34mDADA2_denoising_output\u001b[0m/       downloads.stderr.log\n",
      "HappyBellyqiime2Demo.ipynb    downloads.stdout.log\n",
      "\u001b[01;34mclassified_sequences\u001b[0m/         \u001b[01;34mexport\u001b[0m/\n",
      "demux-paired-end-trimmed.qza  \u001b[01;34mphylogeny\u001b[0m/\n",
      "demux-paired-end-trimmed.qzv  silva-132-99-515-806-nb-classifier.qza\n",
      "demux-paired-end.qza\n"
     ]
    }
   ],
   "source": [
    "ls"
   ]
  },
  {
   "cell_type": "code",
   "execution_count": 16,
   "metadata": {},
   "outputs": [
    {
     "name": "stdout",
     "output_type": "stream",
     "text": [
      "DADA2_denoising_output\t      downloads.stderr.log\n",
      "HappyBellyqiime2Demo.ipynb    downloads.stdout.log\n",
      "classified_sequences\t      export\n",
      "demux-paired-end-trimmed.qza  phylogeny\n",
      "demux-paired-end-trimmed.qzv  silva-132-99-515-806-nb-classifier.qza\n",
      "demux-paired-end.qza\n"
     ]
    }
   ],
   "source": [
    "! ls"
   ]
  },
  {
   "cell_type": "code",
   "execution_count": 17,
   "metadata": {},
   "outputs": [
    {
     "name": "stdout",
     "output_type": "stream",
     "text": [
      "/iplant/home/esuter:\n",
      "  C- /iplant/home/esuter/BVCN\n",
      "  C- /iplant/home/esuter/HREMicrobiomeproject2019_LargeFiles\n",
      "  C- /iplant/home/esuter/analyses\n",
      "  C- /iplant/home/esuter/export\n",
      "  C- /iplant/home/esuter/sci_data\n"
     ]
    }
   ],
   "source": [
    "! ils"
   ]
  },
  {
   "cell_type": "markdown",
   "metadata": {},
   "source": [
    "If you are coming back here after working on an earlier version, you can upload the previous version of your notebook and all of your files using `iget`. For example:"
   ]
  },
  {
   "cell_type": "code",
   "execution_count": 18,
   "metadata": {},
   "outputs": [],
   "source": [
    "# ! iget /iplant/home/esuter/analyses/Jupyter_Lab_QIIME2_2019.10_analysis1-2020-05-05-14-09-52.8/work -r\n",
    "\n",
    "# the -r mean recursive, so it grabs everything in all folder levels below"
   ]
  },
  {
   "cell_type": "markdown",
   "metadata": {},
   "source": [
    "_________\n",
    "\n",
    "### Check the QIIME2 installation"
   ]
  },
  {
   "cell_type": "code",
   "execution_count": 15,
   "metadata": {},
   "outputs": [
    {
     "name": "stdout",
     "output_type": "stream",
     "text": [
      "\u001b[32mSystem versions\u001b[0m\n",
      "Python version: 3.6.7\n",
      "QIIME 2 release: 2019.10\n",
      "QIIME 2 version: 2019.10.0\n",
      "q2cli version: 2019.10.0\n",
      "\u001b[32m\n",
      "Installed plugins\u001b[0m\n",
      "alignment: 2019.10.0\n",
      "composition: 2019.10.0\n",
      "cutadapt: 2019.10.0\n",
      "dada2: 2019.10.0\n",
      "deblur: 2019.10.0\n",
      "demux: 2019.10.0\n",
      "diversity: 2019.10.0\n",
      "emperor: 2019.10.0\n",
      "feature-classifier: 2019.10.0\n",
      "feature-table: 2019.10.0\n",
      "fragment-insertion: 2019.10.0\n",
      "gneiss: 2019.10.0\n",
      "longitudinal: 2019.10.0\n",
      "metadata: 2019.10.0\n",
      "phylogeny: 2019.10.0\n",
      "quality-control: 2019.10.0\n",
      "quality-filter: 2019.10.0\n",
      "sample-classifier: 2019.10.0\n",
      "taxa: 2019.10.0\n",
      "types: 2019.10.0\n",
      "vsearch: 2019.10.0\n",
      "\u001b[32m\n",
      "Application config directory\u001b[0m\n",
      "/home/qiime2/q2cli\u001b[0m\n",
      "\u001b[32m\n",
      "Getting help\u001b[0m\n",
      "To get help with QIIME 2, visit https://qiime2.org\u001b[0m\n"
     ]
    }
   ],
   "source": [
    "! qiime info"
   ]
  },
  {
   "cell_type": "markdown",
   "metadata": {},
   "source": [
    "In the Discovery Environment, we will also use a Python tool called qiime2. This is a pre-loaded plugin that let's us view qiime2 graphics in the notebook directly. We need to import this using python:"
   ]
  },
  {
   "cell_type": "code",
   "execution_count": 20,
   "metadata": {},
   "outputs": [],
   "source": [
    "import qiime2 as q2\n",
    "# This is now a Python item (instead of bash) and doesn't need to be preceeded by `!`. We will use it a few lines down."
   ]
  },
  {
   "cell_type": "markdown",
   "metadata": {},
   "source": [
    "### Import fastq files into qiime format"
   ]
  },
  {
   "cell_type": "code",
   "execution_count": 10,
   "metadata": {},
   "outputs": [
    {
     "name": "stdout",
     "output_type": "stream",
     "text": [
      "\u001b[32mImported qiime2_wd/qiime_import as CasavaOneEightSingleLanePerSampleDirFmt to demux-paired-end.qza\u001b[0m\n"
     ]
    }
   ],
   "source": [
    "# Import fastq files into a qiime2 qza file format\n",
    "\n",
    "! qiime tools import \\\n",
    "  --type 'SampleData[PairedEndSequencesWithQuality]' \\\n",
    "  --input-path qiime2_wd/qiime_import \\\n",
    "  --input-format CasavaOneEightSingleLanePerSampleDirFmt \\\n",
    "  --output-path work/demux-paired-end.qza"
   ]
  },
  {
   "cell_type": "markdown",
   "metadata": {},
   "source": [
    "### Remove primers \n",
    "We want to call the same program as in Happy Belly, cutadapt, but call it from within qiime2 (documentation [here](https://github.com/qiime2/q2-cutadapt)). The [syntax](https://docs.qiime2.org/2020.2/plugins/available/cutadapt/?highlight=cutadapt) is a little different in qiime2 but we want to do the same thing. Here, we want to use the `trim-paired` method since these sequences are paired-end and already demulitplexed.\n",
    "\n",
    "Check out how to set the parameters:"
   ]
  },
  {
   "cell_type": "code",
   "execution_count": 27,
   "metadata": {},
   "outputs": [
    {
     "name": "stdout",
     "output_type": "stream",
     "text": [
      "Usage: \u001b[34mqiime cutadapt trim-paired\u001b[0m [OPTIONS]\n",
      "\n",
      "  Search demultiplexed paired-end sequences for adapters and remove them.\n",
      "  The parameter descriptions in this method are adapted from the official\n",
      "  cutadapt docs - please see those docs at https://cutadapt.readthedocs.io\n",
      "  for complete details.\n",
      "\n",
      "\u001b[1mInputs\u001b[0m:\n",
      "  \u001b[34m\u001b[4m--i-demultiplexed-sequences\u001b[0m ARTIFACT \u001b[32m\u001b[0m\n",
      "    \u001b[32mSampleData[PairedEndSequencesWithQuality]\u001b[0m\n",
      "                          The paired-end sequences to be trimmed.   \u001b[35m[required]\u001b[0m\n",
      "\u001b[1mParameters\u001b[0m:\n",
      "  \u001b[34m--p-cores\u001b[0m INTEGER       Number of CPU cores to use.\n",
      "    \u001b[32mRange(1, None)\u001b[0m                                                \u001b[35m[default: 1]\u001b[0m\n",
      "  \u001b[34m--p-adapter-f\u001b[0m TEXT...   Sequence of an adapter ligated to the 3' end. The\n",
      "    \u001b[32mList[Str]\u001b[0m             adapter and any subsequent bases are trimmed. If a\n",
      "                          `$` is appended, the adapter is only found if it is\n",
      "                          at the end of the read. Search in forward read. If\n",
      "                          your sequence of interest is \"framed\" by a 5' and a\n",
      "                          3' adapter, use this parameter to define a \"linked\"\n",
      "                          primer - see https://cutadapt.readthedocs.io for\n",
      "                          complete details.                         \u001b[35m[optional]\u001b[0m\n",
      "  \u001b[34m--p-front-f\u001b[0m TEXT...     Sequence of an adapter ligated to the 5' end. The\n",
      "    \u001b[32mList[Str]\u001b[0m             adapter and any preceding bases are trimmed. Partial\n",
      "                          matches at the 5' end are allowed. If a `^`\n",
      "                          character is prepended, the adapter is only found if\n",
      "                          it is at the beginning of the read. Search in\n",
      "                          forward read.                             \u001b[35m[optional]\u001b[0m\n",
      "  \u001b[34m--p-anywhere-f\u001b[0m TEXT...  Sequence of an adapter that may be ligated to the\n",
      "    \u001b[32mList[Str]\u001b[0m             5' or 3' end. Both types of matches as described\n",
      "                          under `adapter` and `front` are allowed. If the\n",
      "                          first base of the read is part of the match, the\n",
      "                          behavior is as with `front`, otherwise as with\n",
      "                          `adapter`. This option is mostly for rescuing failed\n",
      "                          library preparations - do not use if you know which\n",
      "                          end your adapter was ligated to. Search in forward\n",
      "                          read.                                     \u001b[35m[optional]\u001b[0m\n",
      "  \u001b[34m--p-adapter-r\u001b[0m TEXT...   Sequence of an adapter ligated to the 3' end. The\n",
      "    \u001b[32mList[Str]\u001b[0m             adapter and any subsequent bases are trimmed. If a\n",
      "                          `$` is appended, the adapter is only found if it is\n",
      "                          at the end of the read. Search in reverse read. If\n",
      "                          your sequence of interest is \"framed\" by a 5' and a\n",
      "                          3' adapter, use this parameter to define a \"linked\"\n",
      "                          primer - see https://cutadapt.readthedocs.io for\n",
      "                          complete details.                         \u001b[35m[optional]\u001b[0m\n",
      "  \u001b[34m--p-front-r\u001b[0m TEXT...     Sequence of an adapter ligated to the 5' end. The\n",
      "    \u001b[32mList[Str]\u001b[0m             adapter and any preceding bases are trimmed. Partial\n",
      "                          matches at the 5' end are allowed. If a `^`\n",
      "                          character is prepended, the adapter is only found if\n",
      "                          it is at the beginning of the read. Search in\n",
      "                          reverse read.                             \u001b[35m[optional]\u001b[0m\n",
      "  \u001b[34m--p-anywhere-r\u001b[0m TEXT...  Sequence of an adapter that may be ligated to the\n",
      "    \u001b[32mList[Str]\u001b[0m             5' or 3' end. Both types of matches as described\n",
      "                          under `adapter` and `front` are allowed. If the\n",
      "                          first base of the read is part of the match, the\n",
      "                          behavior is as with `front`, otherwise as with\n",
      "                          `adapter`. This option is mostly for rescuing failed\n",
      "                          library preparations - do not use if you know which\n",
      "                          end your adapter was ligated to. Search in reverse\n",
      "                          read.                                     \u001b[35m[optional]\u001b[0m\n",
      "  \u001b[34m--p-error-rate\u001b[0m PROPORTION \u001b[32mRange(0, 1, inclusive_end=True)\u001b[0m\n",
      "                          Maximum allowed error rate.           \u001b[35m[default: 0.1]\u001b[0m\n",
      "  \u001b[34m--p-indels\u001b[0m / \u001b[34m--p-no-indels\u001b[0m\n",
      "                          Allow insertions or deletions of bases when\n",
      "                          matching adapters.                   \u001b[35m[default: True]\u001b[0m\n",
      "  \u001b[34m--p-times\u001b[0m INTEGER       Remove multiple occurrences of an adapter if it is\n",
      "    \u001b[32mRange(1, None)\u001b[0m        repeated, up to `times` times.          \u001b[35m[default: 1]\u001b[0m\n",
      "  \u001b[34m--p-overlap\u001b[0m INTEGER     Require at least `overlap` bases of overlap between\n",
      "    \u001b[32mRange(1, None)\u001b[0m        read and adapter for an adapter to be found.\n",
      "                                                                  \u001b[35m[default: 3]\u001b[0m\n",
      "  \u001b[34m--p-match-read-wildcards\u001b[0m / \u001b[34m--p-no-match-read-wildcards\u001b[0m\n",
      "                          Interpret IUPAC wildcards (e.g., N) in reads.\n",
      "                                                              \u001b[35m[default: False]\u001b[0m\n",
      "  \u001b[34m--p-match-adapter-wildcards\u001b[0m / \u001b[34m--p-no-match-adapter-wildcards\u001b[0m\n",
      "                          Interpret IUPAC wildcards (e.g., N) in adapters.\n",
      "                                                               \u001b[35m[default: True]\u001b[0m\n",
      "  \u001b[34m--p-minimum-length\u001b[0m INTEGER\n",
      "    \u001b[32mRange(1, None)\u001b[0m        Discard reads shorter than specified value. Note,\n",
      "                          the cutadapt default of 0 has been overridden,\n",
      "                          because that value produces empty sequence records.\n",
      "                                                                  \u001b[35m[default: 1]\u001b[0m\n",
      "  \u001b[34m--p-discard-untrimmed\u001b[0m / \u001b[34m--p-no-discard-untrimmed\u001b[0m\n",
      "                          Discard reads in which no adapter was found.\n",
      "                                                              \u001b[35m[default: False]\u001b[0m\n",
      "\u001b[1mOutputs\u001b[0m:\n",
      "  \u001b[34m\u001b[4m--o-trimmed-sequences\u001b[0m ARTIFACT \u001b[32mSampleData[PairedEndSequencesWithQuality]\u001b[0m\n",
      "                          The resulting trimmed sequences.          \u001b[35m[required]\u001b[0m\n",
      "\u001b[1mMiscellaneous\u001b[0m:\n",
      "  \u001b[34m--output-dir\u001b[0m PATH       Output unspecified results to a directory\n",
      "  \u001b[34m--verbose\u001b[0m / \u001b[34m--quiet\u001b[0m     Display verbose output to stdout and/or stderr\n",
      "                          during execution of this action. Or silence output\n",
      "                          if execution is successful (silence is golden).\n",
      "  \u001b[34m--citations\u001b[0m             Show citations and exit.\n",
      "  \u001b[34m--help\u001b[0m                  Show this message and exit.\n",
      "\n",
      "\u001b[33m                  There were some problems with the command:                  \u001b[0m\n",
      "\u001b[31m\u001b[1m (1/2) Missing option \"--i-demultiplexed-sequences\".\u001b[0m\n",
      "\u001b[31m\u001b[1m (2/2) Missing option \"--o-trimmed-sequences\".  (\"--output-dir\" may also be\n",
      "  used)\u001b[0m\n"
     ]
    }
   ],
   "source": [
    "! qiime cutadapt trim-paired"
   ]
  },
  {
   "cell_type": "code",
   "execution_count": 42,
   "metadata": {},
   "outputs": [
    {
     "name": "stdout",
     "output_type": "stream",
     "text": [
      "\u001b[32mSaved SampleData[PairedEndSequencesWithQuality] to: demux-paired-end-trimmed.qza\u001b[0m\n"
     ]
    }
   ],
   "source": [
    "# from forward reads, delete forward primer from 5' end with p-front-f \n",
    "# and delete the reverse complement of reverse primer from 3' end with p-adapter-f\n",
    "\n",
    "# from reverse reads, delete reverse primer from 5' end with p-front-r\n",
    "# and delete the reverse complement of the forward primer from the 3' with p-adapter-r\n",
    "\n",
    "# the minimum length (set with --p-minimum-length) should be 215 \n",
    "# According to Happy Belly, based roughly on 10% smaller than would be expected after trimming \n",
    "# I cannot find a parameter in the qiime2 version of cutadapt to a max legnth of 285 (like they have in Happy Belly)\n",
    "\n",
    "#--p-discard-untrimmed states to throw away reads that don’t have the primers in them in the expected locations.\n",
    "\n",
    "# run this as verbose so we can see the output:\n",
    "\n",
    "! qiime cutadapt trim-paired \\\n",
    "--i-demultiplexed-sequences work/demux-paired-end.qza \\\n",
    "--p-cores 16 \\\n",
    "--p-front-f GTGCCAGCMGCCGCGGTAA \\\n",
    "--p-adapter-f ATTAGAWACCCBDGTAGTCC \\\n",
    "--p-front-r GGACTACHVGGGTWTCTAAT \\\n",
    "--p-adapter-r TTACCGCGGCKGCTGGCAC \\\n",
    "--p-minimum-length 215 \\\n",
    "--p-discard-untrimmed \\\n",
    "--o-trimmed-sequences work/demux-paired-end-trimmed.qza #\\\n",
    "#--verbose "
   ]
  },
  {
   "cell_type": "markdown",
   "metadata": {},
   "source": [
    "You can comment out the --verbose option to keep the notebook clean but you can run it to see the results of primer trimming. More than 99% of the sequences get trimmed for all sample files."
   ]
  },
  {
   "cell_type": "markdown",
   "metadata": {},
   "source": [
    "### Check quality of trimmed reads\n",
    "Qiime2 works with special 'qzv' files for data visualizations. To read a much better description of these, see this [page](https://docs.qiime2.org/2020.2/concepts/#data-files-visualizations). "
   ]
  },
  {
   "cell_type": "code",
   "execution_count": 33,
   "metadata": {},
   "outputs": [
    {
     "name": "stdout",
     "output_type": "stream",
     "text": [
      "\u001b[32mSaved Visualization to: demux-paired-end-trimmed.qzv\u001b[0m\n"
     ]
    }
   ],
   "source": [
    "# Use the summarize function to summarize the trimmed reads\n",
    "! qiime demux summarize \\\n",
    "--i-data work/demux-paired-end-trimmed.qza \\\n",
    "--o-visualization work/demux-paired-end-trimmed.qzv"
   ]
  },
  {
   "cell_type": "markdown",
   "metadata": {},
   "source": [
    "#### Visualize\n",
    "\n",
    "<u>If you are working in your local terminal</u>, you can view the above file using the command `qiime tools view demux-paired-end-trimmed.qzv`. An html will pop up with the interactive plot. You can also drag the file directly into [this website](https://view.qiime2.org/).\n",
    "\n",
    "<u>If you are working in the VICE app</u> in a Jupyter notebook, one of the benefits is that qiime2 visualization tool that we imported above. We can view the interactive plot directly in this notebook:"
   ]
  },
  {
   "cell_type": "code",
   "execution_count": 5,
   "metadata": {},
   "outputs": [
    {
     "name": "stdout",
     "output_type": "stream",
     "text": [
      "\u001b[0m\u001b[01;34mDADA2_denoising_output\u001b[0m/       demux-paired-end.qza\n",
      "HappyBellyqiime2Demo.ipynb    downloads.stderr.log\n",
      "\u001b[01;34mclassified_sequences\u001b[0m/         downloads.stdout.log\n",
      "demux-paired-end-trimmed.qza  silva-132-99-515-806-nb-classifier.qza\n",
      "demux-paired-end-trimmed.qzv\n"
     ]
    }
   ],
   "source": [
    "ls"
   ]
  },
  {
   "cell_type": "code",
   "execution_count": 21,
   "metadata": {},
   "outputs": [
    {
     "data": {
      "text/html": [
       "<div><img onload=\"(function(div, url){\n",
       "if (typeof require !== 'undefined') {\n",
       "    var baseURL = require.toUrl('').split('/').slice(0, -2).join('/');\n",
       "} else {\n",
       "    var baseURL = JSON.parse(\n",
       "        document.getElementById('jupyter-config-data').innerHTML\n",
       "    ).baseUrl.slice(0, -1);\n",
       "}\n",
       "url = baseURL + url;\n",
       "fetch(url).then(function(res) {\n",
       "    if (res.status === 404) {\n",
       "        div.innerHTML = 'Install QIIME 2 Jupyter extension with:<br />' +\n",
       "                        '<code>jupyter serverextension enable --py qiime2' +\n",
       "                        ' --sys-prefix</code><br />then restart your server.' +\n",
       "                        '<br /><br />(Interactive output not available on ' +\n",
       "                        'static notebook viewer services like nbviewer.)';\n",
       "    } else if (res.status === 409) {\n",
       "        div.innerHTML = 'Visualization no longer in scope. Re-run this cell' +\n",
       "                        ' to see the visualization.';\n",
       "    } else if (res.ok) {\n",
       "        url = res.url;\n",
       "        div.innerHTML = '<iframe src=\\'' + url + '\\' style=\\'' +\n",
       "                        'width: 100%; height: 700px; border: 0;\\'>' +\n",
       "                        '</iframe><hr />Open in a: <a href=\\'' + url + '\\'' +\n",
       "                        ' target=\\'_blank\\'>new window</a>'\n",
       "    } else {\n",
       "        div.innerHTML = 'Something has gone wrong. Check notebook server for' +\n",
       "                        ' errors.';\n",
       "    }\n",
       "});\n",
       "})(this.parentElement, '/qiime2/redirect?location=/tmp/qiime2-archive-z8xsels_')\" src=\"data:image/gif;base64,R0lGODlhAQABAIAAAP///wAAACH5BAEAAAAALAAAAAABAAEAAAICRAEAOw==\" /></div>"
      ],
      "text/plain": [
       "<visualization: Visualization uuid: 0fe62059-921e-4c28-b4de-acbb911f6411>"
      ]
     },
     "execution_count": 21,
     "metadata": {},
     "output_type": "execute_result"
    }
   ],
   "source": [
    "q2.Visualization.load(\"demux-paired-end-trimmed.qzv\")"
   ]
  },
  {
   "cell_type": "markdown",
   "metadata": {},
   "source": [
    "  \n",
    "  \n",
    "Click around in the above interactive plot quality scores at different positions, number of sequences in different samples, etc.\n",
    "\n",
    "\n",
    "From the visualization above, we can see the same things that are laid out in the Happy Belly tutorial: that, for the forward reads, the quality really drops off at about 250bp and for the reverse reads, at about 200."
   ]
  },
  {
   "cell_type": "markdown",
   "metadata": {},
   "source": [
    "### DADA2 \n",
    "Use DADA2 to denoises paired-end sequences, dereplicate them, and filter chimeras, all in one step.\n",
    "\n",
    "Unlike in the Happy Belly environment, where using DADA2 in R let's you control many of the parameters and is multiple steps, here we just have one DADA2 step, which quality trims, generates the error model, dereplicates, removes chimeras, merges reads,  infers ASVs, and generates the count table all in one step. The drawback is that here we have much less control over the detailed parameters (for example, I couldn't figure out how to set a minimum cutoff read length of 175). Still, let's try to replicate the parameters from Happy Belly as closely as possible:"
   ]
  },
  {
   "cell_type": "code",
   "execution_count": 9,
   "metadata": {},
   "outputs": [
    {
     "name": "stdout",
     "output_type": "stream",
     "text": [
      "Usage: \u001b[34mqiime dada2\u001b[0m [OPTIONS] COMMAND [ARGS]...\n",
      "\n",
      "  Description: This QIIME 2 plugin wraps DADA2 and supports sequence quality\n",
      "  control for single-end and paired-end reads using the DADA2 R library.\n",
      "\n",
      "  Plugin website: http://benjjneb.github.io/dada2/\n",
      "\n",
      "  Getting user support: Please post to the QIIME 2 forum for help with this\n",
      "  plugin: https://forum.qiime2.org\n",
      "\n",
      "\u001b[1mOptions\u001b[0m:\n",
      "  \u001b[34m--version\u001b[0m    Show the version and exit.\n",
      "  \u001b[34m--citations\u001b[0m  Show citations and exit.\n",
      "  \u001b[34m--help\u001b[0m       Show this message and exit.\n",
      "\n",
      "\u001b[1mCommands\u001b[0m:\n",
      "  \u001b[34mdenoise-paired\u001b[0m  Denoise and dereplicate paired-end sequences\n",
      "  \u001b[34mdenoise-pyro\u001b[0m    Denoise and dereplicate single-end pyrosequences\n",
      "  \u001b[34mdenoise-single\u001b[0m  Denoise and dereplicate single-end sequences\n"
     ]
    }
   ],
   "source": [
    "# Check the documentation on dada2 in qiime2:\n",
    "!qiime dada2"
   ]
  },
  {
   "cell_type": "code",
   "execution_count": 10,
   "metadata": {},
   "outputs": [
    {
     "name": "stdout",
     "output_type": "stream",
     "text": [
      "Usage: \u001b[34mqiime dada2 denoise-paired\u001b[0m [OPTIONS]\n",
      "\n",
      "  This method denoises paired-end sequences, dereplicates them, and filters\n",
      "  chimeras.\n",
      "\n",
      "\u001b[1mInputs\u001b[0m:\n",
      "  \u001b[34m\u001b[4m--i-demultiplexed-seqs\u001b[0m ARTIFACT \u001b[32mSampleData[PairedEndSequencesWithQuality]\u001b[0m\n",
      "                         The paired-end demultiplexed sequences to be\n",
      "                         denoised.                                  \u001b[35m[required]\u001b[0m\n",
      "\u001b[1mParameters\u001b[0m:\n",
      "  \u001b[34m\u001b[4m--p-trunc-len-f\u001b[0m INTEGER\n",
      "                         Position at which forward read sequences should be\n",
      "                         truncated due to decrease in quality. This truncates\n",
      "                         the 3' end of the of the input sequences, which will\n",
      "                         be the bases that were sequenced in the last cycles.\n",
      "                         Reads that are shorter than this value will be\n",
      "                         discarded. After this parameter is applied there must\n",
      "                         still be at least a 20 nucleotide overlap between the\n",
      "                         forward and reverse reads. If 0 is provided, no\n",
      "                         truncation or length filtering will be performed\n",
      "                                                                    \u001b[35m[required]\u001b[0m\n",
      "  \u001b[34m\u001b[4m--p-trunc-len-r\u001b[0m INTEGER\n",
      "                         Position at which reverse read sequences should be\n",
      "                         truncated due to decrease in quality. This truncates\n",
      "                         the 3' end of the of the input sequences, which will\n",
      "                         be the bases that were sequenced in the last cycles.\n",
      "                         Reads that are shorter than this value will be\n",
      "                         discarded. After this parameter is applied there must\n",
      "                         still be at least a 20 nucleotide overlap between the\n",
      "                         forward and reverse reads. If 0 is provided, no\n",
      "                         truncation or length filtering will be performed\n",
      "                                                                    \u001b[35m[required]\u001b[0m\n",
      "  \u001b[34m--p-trim-left-f\u001b[0m INTEGER\n",
      "                         Position at which forward read sequences should be\n",
      "                         trimmed due to low quality. This trims the 5' end of\n",
      "                         the input sequences, which will be the bases that\n",
      "                         were sequenced in the first cycles.      \u001b[35m[default: 0]\u001b[0m\n",
      "  \u001b[34m--p-trim-left-r\u001b[0m INTEGER\n",
      "                         Position at which reverse read sequences should be\n",
      "                         trimmed due to low quality. This trims the 5' end of\n",
      "                         the input sequences, which will be the bases that\n",
      "                         were sequenced in the first cycles.      \u001b[35m[default: 0]\u001b[0m\n",
      "  \u001b[34m--p-max-ee-f\u001b[0m NUMBER    Forward reads with number of expected errors higher\n",
      "                         than this value will be discarded.     \u001b[35m[default: 2.0]\u001b[0m\n",
      "  \u001b[34m--p-max-ee-r\u001b[0m NUMBER    Reverse reads with number of expected errors higher\n",
      "                         than this value will be discarded.     \u001b[35m[default: 2.0]\u001b[0m\n",
      "  \u001b[34m--p-trunc-q\u001b[0m INTEGER    Reads are truncated at the first instance of a\n",
      "                         quality score less than or equal to this value. If\n",
      "                         the resulting read is then shorter than `\u001b[4mtrunc-len-f\u001b[0m`\n",
      "                         or `\u001b[4mtrunc-len-r\u001b[0m` (depending on the direction of the\n",
      "                         read) it is discarded.                   \u001b[35m[default: 2]\u001b[0m\n",
      "  \u001b[34m--p-chimera-method\u001b[0m TEXT \u001b[32mChoices('consensus', 'pooled', 'none')\u001b[0m\n",
      "                         The method used to remove chimeras. \"none\": No\n",
      "                         chimera removal is performed. \"pooled\": All reads are\n",
      "                         pooled prior to chimera detection. \"consensus\":\n",
      "                         Chimeras are detected in samples individually, and\n",
      "                         sequences found chimeric in a sufficient fraction of\n",
      "                         samples are removed.           \u001b[35m[default: 'consensus']\u001b[0m\n",
      "  \u001b[34m--p-min-fold-parent-over-abundance\u001b[0m NUMBER\n",
      "                         The minimum abundance of potential parents of a\n",
      "                         sequence being tested as chimeric, expressed as a\n",
      "                         fold-change versus the abundance of the sequence\n",
      "                         being tested. Values should be greater than or equal\n",
      "                         to 1 (i.e. parents should be more abundant than the\n",
      "                         sequence being tested). This parameter has no effect\n",
      "                         if \u001b[4mchimera-method\u001b[0m is \"none\".           \u001b[35m[default: 1.0]\u001b[0m\n",
      "  \u001b[34m--p-n-threads\u001b[0m INTEGER  The number of threads to use for multithreaded\n",
      "                         processing. If 0 is provided, all available cores\n",
      "                         will be used.                            \u001b[35m[default: 1]\u001b[0m\n",
      "  \u001b[34m--p-n-reads-learn\u001b[0m INTEGER\n",
      "                         The number of reads to use when training the error\n",
      "                         model. Smaller numbers will result in a shorter run\n",
      "                         time but a less reliable error model.\n",
      "                                                            \u001b[35m[default: 1000000]\u001b[0m\n",
      "  \u001b[34m--p-hashed-feature-ids\u001b[0m / \u001b[34m--p-no-hashed-feature-ids\u001b[0m\n",
      "                         If true, the feature ids in the resulting table will\n",
      "                         be presented as hashes of the sequences defining each\n",
      "                         feature. The hash will always be the same for the\n",
      "                         same sequence so this allows feature tables to be\n",
      "                         merged across runs of this method. You should only\n",
      "                         merge tables if the exact same parameters are used\n",
      "                         for each run.                         \u001b[35m[default: True]\u001b[0m\n",
      "\u001b[1mOutputs\u001b[0m:\n",
      "  \u001b[34m\u001b[4m--o-table\u001b[0m ARTIFACT \u001b[32mFeatureTable[Frequency]\u001b[0m\n",
      "                         The resulting feature table.               \u001b[35m[required]\u001b[0m\n",
      "  \u001b[34m\u001b[4m--o-representative-sequences\u001b[0m ARTIFACT \u001b[32mFeatureData[Sequence]\u001b[0m\n",
      "                         The resulting feature sequences. Each feature in the\n",
      "                         feature table will be represented by exactly one\n",
      "                         sequence, and these sequences will be the joined\n",
      "                         paired-end sequences.                      \u001b[35m[required]\u001b[0m\n",
      "  \u001b[34m\u001b[4m--o-denoising-stats\u001b[0m ARTIFACT \u001b[32mSampleData[DADA2Stats]\u001b[0m\n",
      "                                                                    \u001b[35m[required]\u001b[0m\n",
      "\u001b[1mMiscellaneous\u001b[0m:\n",
      "  \u001b[34m--output-dir\u001b[0m PATH      Output unspecified results to a directory\n",
      "  \u001b[34m--verbose\u001b[0m / \u001b[34m--quiet\u001b[0m    Display verbose output to stdout and/or stderr\n",
      "                         during execution of this action. Or silence output if\n",
      "                         execution is successful (silence is golden).\n",
      "  \u001b[34m--citations\u001b[0m            Show citations and exit.\n",
      "  \u001b[34m--help\u001b[0m                 Show this message and exit.\n",
      "\n",
      "\u001b[33m                  There were some problems with the command:                  \u001b[0m\n",
      "\u001b[31m\u001b[1m (1/6) Missing option \"--i-demultiplexed-seqs\".\u001b[0m\n",
      "\u001b[31m\u001b[1m (2/6) Missing option \"--p-trunc-len-f\".\u001b[0m\n",
      "\u001b[31m\u001b[1m (3/6) Missing option \"--p-trunc-len-r\".\u001b[0m\n",
      "\u001b[31m\u001b[1m (4/6) Missing option \"--o-table\".  (\"--output-dir\" may also be used)\u001b[0m\n",
      "\u001b[31m\u001b[1m (5/6) Missing option \"--o-representative-sequences\".  (\"--output-dir\" may\n",
      "  also be used)\u001b[0m\n",
      "\u001b[31m\u001b[1m (6/6) Missing option \"--o-denoising-stats\".  (\"--output-dir\" may also be\n",
      "  used)\u001b[0m\n"
     ]
    }
   ],
   "source": [
    "# We are going to use the denoise-paired option. \n",
    "\n",
    "# Next check which input parameters we can modfiy in that option:\n",
    "\n",
    "!qiime dada2 denoise-paired "
   ]
  },
  {
   "cell_type": "markdown",
   "metadata": {},
   "source": [
    "Let's choose some parameters:\n",
    "\n",
    "\n",
    "I am going to get as close as I can to the same parameters used in Happy Belly:\n",
    "\n",
    "- --p-trunc-len-f: we are going to truncate the F reads at position 250 \n",
    "- --p-trunc-len-r: and truncate the R reads at position 200  \n",
    "    - Reads shorter than these will be thrown out\n",
    "\n",
    "- Dada2 also filters out reads using maxEE, a threshold number of expected errors in each read\n",
    "    - In Happy Belly, they threw out reads if they were likely to have more than 2 erroneous base calls \n",
    "    - Here, the documentation says 2 is the default so I won't even put that parameter in. \n",
    "    - If you wanted to change it, you would use the --p-max-ee-f and --p-max-ee-r arguments\n",
    "\n",
    "- I won't be trimming the left side of either F or R reads so I am also leaving out the --p-trim-left-f and --p-trim-left-r parameters\n",
    "\n",
    "- --p-trunc-q can be used to truncate reads when the quality score drops below a certain threshold. \n",
    "    - The default number is 2, which is the value I want so I also won't be assigning that parameter         \n",
    "- --p-chimera-method: I will also leave the default 'consensus' method\n",
    "\n",
    "- --p-n-threads I am going to put 0 here, which means: use all available threads.\n",
    "\n",
    "- --p-n-reads-learn DADA2 tries to estimate how many errors were generated by the sequencer based on an error model. This parameters sets how many sequences go into training the model. Leave the default here as 1,000,000 for now\n",
    "\n",
    "\n",
    "- --verbose will show us what's happening as it's running.\n",
    "\n",
    "\n",
    "**Note**: This is the longest step and may take a while. Here, on the cyverse computers, it took me about 20 minutes. For a larger dataset, it may take several hours or days and it may be smart to use [tmux](https://www.hamvocke.com/blog/a-quick-and-easy-guide-to-tmux/) incase you lose connection. tmux allows your commands to keep running on the server even if you lose connection (I have not used it here on Cyverse so it's sometihng you would need to inquire with them about if you are having issues)."
   ]
  },
  {
   "cell_type": "code",
   "execution_count": 39,
   "metadata": {},
   "outputs": [
    {
     "name": "stdout",
     "output_type": "stream",
     "text": [
      "Running external command line application(s). This may print messages to stdout and/or stderr.\n",
      "The command(s) being run are below. These commands cannot be manually re-run as they will depend on temporary files that no longer exist.\n",
      "\n",
      "Command: run_dada_paired.R /tmp/tmptldxtnrm/forward /tmp/tmptldxtnrm/reverse /tmp/tmptldxtnrm/output.tsv.biom /tmp/tmptldxtnrm/track.tsv /tmp/tmptldxtnrm/filt_f /tmp/tmptldxtnrm/filt_r 250 200 0 0 2.0 2.0 2 consensus 1.0 0 1000000\n",
      "\n",
      "R version 3.5.1 (2018-07-02) \n",
      "Loading required package: Rcpp\n",
      "DADA2: 1.10.0 / Rcpp: 1.0.2 / RcppParallel: 4.4.4 \n",
      "1) Filtering ....................\n",
      "2) Learning Error Rates\n",
      "48037500 total bases in 192150 reads from 20 samples will be used for learning the error rates.\n",
      "38430000 total bases in 192150 reads from 20 samples will be used for learning the error rates.\n",
      "3) Denoise remaining samples ....................\n",
      "4) Remove chimeras (method = consensus)\n",
      "6) Write output\n",
      "\u001b[32mSaved FeatureTable[Frequency] to: DADA2_denoising_output/table.qza\u001b[0m\n",
      "\u001b[32mSaved FeatureData[Sequence] to: DADA2_denoising_output/representative_sequences.qza\u001b[0m\n",
      "\u001b[32mSaved SampleData[DADA2Stats] to: DADA2_denoising_output/denoising_stats.qza\u001b[0m\n"
     ]
    }
   ],
   "source": [
    "! qiime dada2 denoise-paired \\\n",
    "--i-demultiplexed-seqs work/demux-paired-end-trimmed.qza \\\n",
    "--p-trunc-len-f 250 \\\n",
    "--p-trunc-len-r 200 \\\n",
    "--p-n-threads 0 \\\n",
    "--output-dir work/DADA2_denoising_output \\\n",
    "--verbose"
   ]
  },
  {
   "cell_type": "markdown",
   "metadata": {},
   "source": [
    "Let's take a look at the results \n"
   ]
  },
  {
   "cell_type": "code",
   "execution_count": 12,
   "metadata": {},
   "outputs": [
    {
     "name": "stdout",
     "output_type": "stream",
     "text": [
      "\u001b[32mSaved Visualization to: work/DADA2_denoising_output/denoising_stats.qzv\u001b[0m\n"
     ]
    },
    {
     "data": {
      "text/html": [
       "<div><img onload=\"(function(div, url){\n",
       "if (typeof require !== 'undefined') {\n",
       "    var baseURL = require.toUrl('').split('/').slice(0, -2).join('/');\n",
       "} else {\n",
       "    var baseURL = JSON.parse(\n",
       "        document.getElementById('jupyter-config-data').innerHTML\n",
       "    ).baseUrl.slice(0, -1);\n",
       "}\n",
       "url = baseURL + url;\n",
       "fetch(url).then(function(res) {\n",
       "    if (res.status === 404) {\n",
       "        div.innerHTML = 'Install QIIME 2 Jupyter extension with:<br />' +\n",
       "                        '<code>jupyter serverextension enable --py qiime2' +\n",
       "                        ' --sys-prefix</code><br />then restart your server.' +\n",
       "                        '<br /><br />(Interactive output not available on ' +\n",
       "                        'static notebook viewer services like nbviewer.)';\n",
       "    } else if (res.status === 409) {\n",
       "        div.innerHTML = 'Visualization no longer in scope. Re-run this cell' +\n",
       "                        ' to see the visualization.';\n",
       "    } else if (res.ok) {\n",
       "        url = res.url;\n",
       "        div.innerHTML = '<iframe src=\\'' + url + '\\' style=\\'' +\n",
       "                        'width: 100%; height: 700px; border: 0;\\'>' +\n",
       "                        '</iframe><hr />Open in a: <a href=\\'' + url + '\\'' +\n",
       "                        ' target=\\'_blank\\'>new window</a>'\n",
       "    } else {\n",
       "        div.innerHTML = 'Something has gone wrong. Check notebook server for' +\n",
       "                        ' errors.';\n",
       "    }\n",
       "});\n",
       "})(this.parentElement, '/qiime2/redirect?location=/tmp/qiime2-archive-54lwsrm9')\" src=\"data:image/gif;base64,R0lGODlhAQABAIAAAP///wAAACH5BAEAAAAALAAAAAABAAEAAAICRAEAOw==\" /></div>"
      ],
      "text/plain": [
       "<visualization: Visualization uuid: c329e800-45ec-41eb-880d-d49c757e77be>"
      ]
     },
     "execution_count": 12,
     "metadata": {},
     "output_type": "execute_result"
    }
   ],
   "source": [
    "! qiime metadata tabulate \\\n",
    "  --m-input-file work/DADA2_denoising_output/denoising_stats.qza \\\n",
    "  --o-visualization work/DADA2_denoising_output/denoising_stats.qzv"
   ]
  },
  {
   "cell_type": "code",
   "execution_count": 22,
   "metadata": {},
   "outputs": [
    {
     "data": {
      "text/html": [
       "<div><img onload=\"(function(div, url){\n",
       "if (typeof require !== 'undefined') {\n",
       "    var baseURL = require.toUrl('').split('/').slice(0, -2).join('/');\n",
       "} else {\n",
       "    var baseURL = JSON.parse(\n",
       "        document.getElementById('jupyter-config-data').innerHTML\n",
       "    ).baseUrl.slice(0, -1);\n",
       "}\n",
       "url = baseURL + url;\n",
       "fetch(url).then(function(res) {\n",
       "    if (res.status === 404) {\n",
       "        div.innerHTML = 'Install QIIME 2 Jupyter extension with:<br />' +\n",
       "                        '<code>jupyter serverextension enable --py qiime2' +\n",
       "                        ' --sys-prefix</code><br />then restart your server.' +\n",
       "                        '<br /><br />(Interactive output not available on ' +\n",
       "                        'static notebook viewer services like nbviewer.)';\n",
       "    } else if (res.status === 409) {\n",
       "        div.innerHTML = 'Visualization no longer in scope. Re-run this cell' +\n",
       "                        ' to see the visualization.';\n",
       "    } else if (res.ok) {\n",
       "        url = res.url;\n",
       "        div.innerHTML = '<iframe src=\\'' + url + '\\' style=\\'' +\n",
       "                        'width: 100%; height: 700px; border: 0;\\'>' +\n",
       "                        '</iframe><hr />Open in a: <a href=\\'' + url + '\\'' +\n",
       "                        ' target=\\'_blank\\'>new window</a>'\n",
       "    } else {\n",
       "        div.innerHTML = 'Something has gone wrong. Check notebook server for' +\n",
       "                        ' errors.';\n",
       "    }\n",
       "});\n",
       "})(this.parentElement, '/qiime2/redirect?location=/tmp/qiime2-archive-bqkkblf6')\" src=\"data:image/gif;base64,R0lGODlhAQABAIAAAP///wAAACH5BAEAAAAALAAAAAABAAEAAAICRAEAOw==\" /></div>"
      ],
      "text/plain": [
       "<visualization: Visualization uuid: c329e800-45ec-41eb-880d-d49c757e77be>"
      ]
     },
     "execution_count": 22,
     "metadata": {},
     "output_type": "execute_result"
    }
   ],
   "source": [
    "q2.Visualization.load(\"work/DADA2_denoising_output/denoising_stats.qzv\")"
   ]
  },
  {
   "cell_type": "markdown",
   "metadata": {},
   "source": [
    "Compare the above table to the `summary_tab` table from Happy Belly.  \n",
    "\n",
    "It looks like we had a few more input sequences, which was probably due to slightly different cutadapt parameters (we couldn't set the max length cutoff) but then the filtering steps here removed several more reads than in Happy Belly. This could be due to the method we used (eg. 'consensus' method for chimera removal instead of 'pool') or some other parameters that we were unable to set through the qiime2 input parameters (eg. setting a min length of 175). Still, it seems that what we have here is conservative, so I am going to continue..."
   ]
  },
  {
   "cell_type": "markdown",
   "metadata": {},
   "source": [
    "Take a look at a summary of the remaining sequence reads (note- in the outpute of the rep_seq visualization you can click directly on a sequence to send it to Blast)"
   ]
  },
  {
   "cell_type": "code",
   "execution_count": 13,
   "metadata": {},
   "outputs": [
    {
     "name": "stdout",
     "output_type": "stream",
     "text": [
      "\u001b[32mSaved Visualization to: work/DADA2_denoising_output/rep_seqs.qzv\u001b[0m\n"
     ]
    },
    {
     "data": {
      "text/html": [
       "<div><img onload=\"(function(div, url){\n",
       "if (typeof require !== 'undefined') {\n",
       "    var baseURL = require.toUrl('').split('/').slice(0, -2).join('/');\n",
       "} else {\n",
       "    var baseURL = JSON.parse(\n",
       "        document.getElementById('jupyter-config-data').innerHTML\n",
       "    ).baseUrl.slice(0, -1);\n",
       "}\n",
       "url = baseURL + url;\n",
       "fetch(url).then(function(res) {\n",
       "    if (res.status === 404) {\n",
       "        div.innerHTML = 'Install QIIME 2 Jupyter extension with:<br />' +\n",
       "                        '<code>jupyter serverextension enable --py qiime2' +\n",
       "                        ' --sys-prefix</code><br />then restart your server.' +\n",
       "                        '<br /><br />(Interactive output not available on ' +\n",
       "                        'static notebook viewer services like nbviewer.)';\n",
       "    } else if (res.status === 409) {\n",
       "        div.innerHTML = 'Visualization no longer in scope. Re-run this cell' +\n",
       "                        ' to see the visualization.';\n",
       "    } else if (res.ok) {\n",
       "        url = res.url;\n",
       "        div.innerHTML = '<iframe src=\\'' + url + '\\' style=\\'' +\n",
       "                        'width: 100%; height: 700px; border: 0;\\'>' +\n",
       "                        '</iframe><hr />Open in a: <a href=\\'' + url + '\\'' +\n",
       "                        ' target=\\'_blank\\'>new window</a>'\n",
       "    } else {\n",
       "        div.innerHTML = 'Something has gone wrong. Check notebook server for' +\n",
       "                        ' errors.';\n",
       "    }\n",
       "});\n",
       "})(this.parentElement, '/qiime2/redirect?location=/tmp/qiime2-archive-yznhlz0j')\" src=\"data:image/gif;base64,R0lGODlhAQABAIAAAP///wAAACH5BAEAAAAALAAAAAABAAEAAAICRAEAOw==\" /></div>"
      ],
      "text/plain": [
       "<visualization: Visualization uuid: 3c03adde-46c8-41f9-831d-79fc2311ad28>"
      ]
     },
     "execution_count": 13,
     "metadata": {},
     "output_type": "execute_result"
    }
   ],
   "source": [
    "! qiime feature-table tabulate-seqs \\\n",
    "--i-data work/DADA2_denoising_output/representative_sequences.qza \\\n",
    "--o-visualization work/DADA2_denoising_output/rep_seqs.qzv \\"
   ]
  },
  {
   "cell_type": "code",
   "execution_count": 23,
   "metadata": {},
   "outputs": [
    {
     "data": {
      "text/html": [
       "<div><img onload=\"(function(div, url){\n",
       "if (typeof require !== 'undefined') {\n",
       "    var baseURL = require.toUrl('').split('/').slice(0, -2).join('/');\n",
       "} else {\n",
       "    var baseURL = JSON.parse(\n",
       "        document.getElementById('jupyter-config-data').innerHTML\n",
       "    ).baseUrl.slice(0, -1);\n",
       "}\n",
       "url = baseURL + url;\n",
       "fetch(url).then(function(res) {\n",
       "    if (res.status === 404) {\n",
       "        div.innerHTML = 'Install QIIME 2 Jupyter extension with:<br />' +\n",
       "                        '<code>jupyter serverextension enable --py qiime2' +\n",
       "                        ' --sys-prefix</code><br />then restart your server.' +\n",
       "                        '<br /><br />(Interactive output not available on ' +\n",
       "                        'static notebook viewer services like nbviewer.)';\n",
       "    } else if (res.status === 409) {\n",
       "        div.innerHTML = 'Visualization no longer in scope. Re-run this cell' +\n",
       "                        ' to see the visualization.';\n",
       "    } else if (res.ok) {\n",
       "        url = res.url;\n",
       "        div.innerHTML = '<iframe src=\\'' + url + '\\' style=\\'' +\n",
       "                        'width: 100%; height: 700px; border: 0;\\'>' +\n",
       "                        '</iframe><hr />Open in a: <a href=\\'' + url + '\\'' +\n",
       "                        ' target=\\'_blank\\'>new window</a>'\n",
       "    } else {\n",
       "        div.innerHTML = 'Something has gone wrong. Check notebook server for' +\n",
       "                        ' errors.';\n",
       "    }\n",
       "});\n",
       "})(this.parentElement, '/qiime2/redirect?location=/tmp/qiime2-archive-lxcl260q')\" src=\"data:image/gif;base64,R0lGODlhAQABAIAAAP///wAAACH5BAEAAAAALAAAAAABAAEAAAICRAEAOw==\" /></div>"
      ],
      "text/plain": [
       "<visualization: Visualization uuid: 3c03adde-46c8-41f9-831d-79fc2311ad28>"
      ]
     },
     "execution_count": 23,
     "metadata": {},
     "output_type": "execute_result"
    }
   ],
   "source": [
    "q2.Visualization.load(\"work/DADA2_denoising_output/rep_seqs.qzv\")"
   ]
  },
  {
   "cell_type": "markdown",
   "metadata": {},
   "source": [
    "And take a look at the feature table"
   ]
  },
  {
   "cell_type": "code",
   "execution_count": 14,
   "metadata": {},
   "outputs": [
    {
     "name": "stdout",
     "output_type": "stream",
     "text": [
      "\u001b[32mSaved Visualization to: work/DADA2_denoising_output/table.qzv\u001b[0m\n"
     ]
    },
    {
     "data": {
      "text/html": [
       "<div><img onload=\"(function(div, url){\n",
       "if (typeof require !== 'undefined') {\n",
       "    var baseURL = require.toUrl('').split('/').slice(0, -2).join('/');\n",
       "} else {\n",
       "    var baseURL = JSON.parse(\n",
       "        document.getElementById('jupyter-config-data').innerHTML\n",
       "    ).baseUrl.slice(0, -1);\n",
       "}\n",
       "url = baseURL + url;\n",
       "fetch(url).then(function(res) {\n",
       "    if (res.status === 404) {\n",
       "        div.innerHTML = 'Install QIIME 2 Jupyter extension with:<br />' +\n",
       "                        '<code>jupyter serverextension enable --py qiime2' +\n",
       "                        ' --sys-prefix</code><br />then restart your server.' +\n",
       "                        '<br /><br />(Interactive output not available on ' +\n",
       "                        'static notebook viewer services like nbviewer.)';\n",
       "    } else if (res.status === 409) {\n",
       "        div.innerHTML = 'Visualization no longer in scope. Re-run this cell' +\n",
       "                        ' to see the visualization.';\n",
       "    } else if (res.ok) {\n",
       "        url = res.url;\n",
       "        div.innerHTML = '<iframe src=\\'' + url + '\\' style=\\'' +\n",
       "                        'width: 100%; height: 700px; border: 0;\\'>' +\n",
       "                        '</iframe><hr />Open in a: <a href=\\'' + url + '\\'' +\n",
       "                        ' target=\\'_blank\\'>new window</a>'\n",
       "    } else {\n",
       "        div.innerHTML = 'Something has gone wrong. Check notebook server for' +\n",
       "                        ' errors.';\n",
       "    }\n",
       "});\n",
       "})(this.parentElement, '/qiime2/redirect?location=/tmp/qiime2-archive-q6jbvg9i')\" src=\"data:image/gif;base64,R0lGODlhAQABAIAAAP///wAAACH5BAEAAAAALAAAAAABAAEAAAICRAEAOw==\" /></div>"
      ],
      "text/plain": [
       "<visualization: Visualization uuid: 7a9c2854-8335-4039-9283-d996ea4e10c5>"
      ]
     },
     "execution_count": 14,
     "metadata": {},
     "output_type": "execute_result"
    }
   ],
   "source": [
    "! qiime feature-table summarize \\\n",
    "--i-table work/DADA2_denoising_output/table.qza \\\n",
    "--o-visualization work/DADA2_denoising_output/table.qzv \\"
   ]
  },
  {
   "cell_type": "code",
   "execution_count": 24,
   "metadata": {},
   "outputs": [
    {
     "data": {
      "text/html": [
       "<div><img onload=\"(function(div, url){\n",
       "if (typeof require !== 'undefined') {\n",
       "    var baseURL = require.toUrl('').split('/').slice(0, -2).join('/');\n",
       "} else {\n",
       "    var baseURL = JSON.parse(\n",
       "        document.getElementById('jupyter-config-data').innerHTML\n",
       "    ).baseUrl.slice(0, -1);\n",
       "}\n",
       "url = baseURL + url;\n",
       "fetch(url).then(function(res) {\n",
       "    if (res.status === 404) {\n",
       "        div.innerHTML = 'Install QIIME 2 Jupyter extension with:<br />' +\n",
       "                        '<code>jupyter serverextension enable --py qiime2' +\n",
       "                        ' --sys-prefix</code><br />then restart your server.' +\n",
       "                        '<br /><br />(Interactive output not available on ' +\n",
       "                        'static notebook viewer services like nbviewer.)';\n",
       "    } else if (res.status === 409) {\n",
       "        div.innerHTML = 'Visualization no longer in scope. Re-run this cell' +\n",
       "                        ' to see the visualization.';\n",
       "    } else if (res.ok) {\n",
       "        url = res.url;\n",
       "        div.innerHTML = '<iframe src=\\'' + url + '\\' style=\\'' +\n",
       "                        'width: 100%; height: 700px; border: 0;\\'>' +\n",
       "                        '</iframe><hr />Open in a: <a href=\\'' + url + '\\'' +\n",
       "                        ' target=\\'_blank\\'>new window</a>'\n",
       "    } else {\n",
       "        div.innerHTML = 'Something has gone wrong. Check notebook server for' +\n",
       "                        ' errors.';\n",
       "    }\n",
       "});\n",
       "})(this.parentElement, '/qiime2/redirect?location=/tmp/qiime2-archive-9wg3vd_2')\" src=\"data:image/gif;base64,R0lGODlhAQABAIAAAP///wAAACH5BAEAAAAALAAAAAABAAEAAAICRAEAOw==\" /></div>"
      ],
      "text/plain": [
       "<visualization: Visualization uuid: 7a9c2854-8335-4039-9283-d996ea4e10c5>"
      ]
     },
     "execution_count": 24,
     "metadata": {},
     "output_type": "execute_result"
    }
   ],
   "source": [
    "q2.Visualization.load(\"work/DADA2_denoising_output/table.qzv\")"
   ]
  },
  {
   "cell_type": "markdown",
   "metadata": {},
   "source": [
    "### Assign taxonomy \n",
    "\n",
    "We are going to assign taxonomy based on a reference database. These reference databases are called \"classifiers\" and drawn from curated databases, such as the one from [SILVA](https://www.arb-silva.de/).\n",
    "\n",
    "You can dowload the classifier directly or train it yourself. Since the dataset we are working with uses common primers, there are classifiers that already exist.  If you are using other primers, or want to train your own reference database for some other reason, you should follow the instructions on this [page](https://docs.qiime2.org/2020.2/tutorials/feature-classifier/).\n",
    "\n",
    "Here we are going to use  SILVA v132 as our reference database. This is the most recent qiime2-compatible classifier and is the same one used in Happy Belly. I am just going to download the 16S rRNA v4 (515F/806R) v132 classifier from [here](https://docs.qiime2.org/2020.2/data-resources/)."
   ]
  },
  {
   "cell_type": "code",
   "execution_count": 16,
   "metadata": {},
   "outputs": [
    {
     "name": "stdout",
     "output_type": "stream",
     "text": [
      "--2020-05-05 17:42:01--  https://data.qiime2.org/2020.2/common/silva-132-99-515-806-nb-classifier.qza\n",
      "Resolving data.qiime2.org... 52.35.38.247\n",
      "Connecting to data.qiime2.org|52.35.38.247|:443... connected.\n",
      "HTTP request sent, awaiting response... 302 FOUND\n",
      "Location: https://s3-us-west-2.amazonaws.com/qiime2-data/2020.2/common/silva-132-99-515-806-nb-classifier.qza [following]\n",
      "--2020-05-05 17:42:01--  https://s3-us-west-2.amazonaws.com/qiime2-data/2020.2/common/silva-132-99-515-806-nb-classifier.qza\n",
      "Resolving s3-us-west-2.amazonaws.com... 52.218.237.56\n",
      "Connecting to s3-us-west-2.amazonaws.com|52.218.237.56|:443... connected.\n",
      "HTTP request sent, awaiting response... 200 OK\n",
      "Length: 196091391 (187M) [application/x-www-form-urlencoded]\n",
      "Saving to: ‘silva-132-99-515-806-nb-classifier.qza’\n",
      "\n",
      "silva-132-99-515-80 100%[===================>] 187.01M  54.3MB/s    in 3.9s    \n",
      "\n",
      "2020-05-05 17:42:06 (48.2 MB/s) - ‘silva-132-99-515-806-nb-classifier.qza’ saved [196091391/196091391]\n",
      "\n"
     ]
    }
   ],
   "source": [
    "! wget https://data.qiime2.org/2020.2/common/silva-132-99-515-806-nb-classifier.qza\n",
    "! mv silva-132-99-515-806-nb-classifier.qza work/"
   ]
  },
  {
   "cell_type": "markdown",
   "metadata": {},
   "source": [
    "Next, assign taxononomy using the SILVA classifier (this step also takes awhile...)"
   ]
  },
  {
   "cell_type": "code",
   "execution_count": 69,
   "metadata": {},
   "outputs": [
    {
     "name": "stdout",
     "output_type": "stream",
     "text": [
      "\u001b[31m\u001b[1mPlugin error from feature-classifier:\n",
      "\n",
      "  The scikit-learn version (0.22.1) used to generate this artifact does not match the current version of scikit-learn installed (0.21.2). Please retrain your classifier for your current deployment to prevent data-corruption errors.\n",
      "\n",
      "Debug info has been saved to /tmp/qiime2-q2cli-err-xnr152ml.log\u001b[0m\n"
     ]
    }
   ],
   "source": [
    "# Classify the representative sequences\n",
    "! qiime feature-classifier classify-sklearn \\\n",
    "--i-classifier silva-132-99-515-806-nb-classifier.qza \\\n",
    "--i-reads work/DADA2_denoising_output/representative_sequences.qza \\\n",
    "--o-classification taxonomy.qza"
   ]
  },
  {
   "cell_type": "markdown",
   "metadata": {},
   "source": [
    "That gave an error! It's because I downloaded the newest classifier but we are working in a slightly older version of Qiime2. If you go back to the [data resources page](https://docs.qiime2.org/2020.2/data-resources/) and switch the version (upper left corner) to 2019.10 (our current working version) and get the link for *that* v132 515F/806R classifier, it should work"
   ]
  },
  {
   "cell_type": "code",
   "execution_count": 17,
   "metadata": {},
   "outputs": [],
   "source": [
    "! rm work/silva-132-99-515-806-nb-classifier.qza -r"
   ]
  },
  {
   "cell_type": "code",
   "execution_count": 18,
   "metadata": {},
   "outputs": [
    {
     "name": "stdout",
     "output_type": "stream",
     "text": [
      "--2020-05-05 17:42:55--  https://data.qiime2.org/2019.10/common/silva-132-99-515-806-nb-classifier.qza\n",
      "Resolving data.qiime2.org... 52.35.38.247\n",
      "Connecting to data.qiime2.org|52.35.38.247|:443... connected.\n",
      "HTTP request sent, awaiting response... 302 FOUND\n",
      "Location: https://s3-us-west-2.amazonaws.com/qiime2-data/2019.10/common/silva-132-99-515-806-nb-classifier.qza [following]\n",
      "--2020-05-05 17:42:56--  https://s3-us-west-2.amazonaws.com/qiime2-data/2019.10/common/silva-132-99-515-806-nb-classifier.qza\n",
      "Resolving s3-us-west-2.amazonaws.com... 52.218.221.176\n",
      "Connecting to s3-us-west-2.amazonaws.com|52.218.221.176|:443... connected.\n",
      "HTTP request sent, awaiting response... 200 OK\n",
      "Length: 188926431 (180M) [binary/octet-stream]\n",
      "Saving to: ‘silva-132-99-515-806-nb-classifier.qza’\n",
      "\n",
      "silva-132-99-515-80 100%[===================>] 180.17M  45.7MB/s    in 4.4s    \n",
      "\n",
      "2020-05-05 17:43:00 (41.4 MB/s) - ‘silva-132-99-515-806-nb-classifier.qza’ saved [188926431/188926431]\n",
      "\n"
     ]
    }
   ],
   "source": [
    "! wget https://data.qiime2.org/2019.10/common/silva-132-99-515-806-nb-classifier.qza\n",
    "! mv silva-132-99-515-806-nb-classifier.qza work/"
   ]
  },
  {
   "cell_type": "code",
   "execution_count": 19,
   "metadata": {},
   "outputs": [
    {
     "name": "stdout",
     "output_type": "stream",
     "text": [
      "Usage: \u001b[34mqiime feature-classifier classify-sklearn\u001b[0m [OPTIONS]\n",
      "\n",
      "  Classify reads by taxon using a fitted classifier.\n",
      "\n",
      "\u001b[1mInputs\u001b[0m:\n",
      "  \u001b[34m\u001b[4m--i-reads\u001b[0m ARTIFACT \u001b[32mFeatureData[Sequence]\u001b[0m\n",
      "                         The feature data to be classified.         \u001b[35m[required]\u001b[0m\n",
      "  \u001b[34m\u001b[4m--i-classifier\u001b[0m ARTIFACT\n",
      "    \u001b[32mTaxonomicClassifier\u001b[0m  The taxonomic classifier for classifying the reads.\n",
      "                                                                    \u001b[35m[required]\u001b[0m\n",
      "\u001b[1mParameters\u001b[0m:\n",
      "  \u001b[34m--p-reads-per-batch\u001b[0m INTEGER\n",
      "    \u001b[32mRange(0, None)\u001b[0m       Number of reads to process in each batch. If \"auto\",\n",
      "                         this parameter is autoscaled to min( number of query\n",
      "                         sequences / \u001b[4mn-jobs\u001b[0m, 20000).              \u001b[35m[default: 0]\u001b[0m\n",
      "  \u001b[34m--p-n-jobs\u001b[0m INTEGER     The maximum number of concurrently worker processes.\n",
      "                         If -1 all CPUs are used. If 1 is given, no parallel\n",
      "                         computing code is used at all, which is useful for\n",
      "                         debugging. For \u001b[4mn-jobs\u001b[0m below -1, (n_cpus + 1 + \u001b[4mn-jobs\u001b[0m)\n",
      "                         are used. Thus for \u001b[4mn-jobs\u001b[0m = -2, all CPUs but one are\n",
      "                         used.                                    \u001b[35m[default: 1]\u001b[0m\n",
      "  \u001b[34m--p-pre-dispatch\u001b[0m TEXT  \"all\" or expression, as in \"3*n_jobs\". The number of\n",
      "                         batches (of tasks) to be pre-dispatched.\n",
      "                                                         \u001b[35m[default: '2*n_jobs']\u001b[0m\n",
      "  \u001b[34m--p-confidence\u001b[0m VALUE \u001b[32mFloat % Range(0, 1, inclusive_end=True) | Str %\u001b[0m\n",
      "    \u001b[32mChoices('disable')\u001b[0m   Confidence threshold for limiting taxonomic depth.\n",
      "                         Set to \"disable\" to disable confidence calculation,\n",
      "                         or 0 to calculate confidence but not apply it to\n",
      "                         limit the taxonomic depth of the assignments.\n",
      "                                                                \u001b[35m[default: 0.7]\u001b[0m\n",
      "  \u001b[34m--p-read-orientation\u001b[0m TEXT \u001b[32mChoices('same', 'reverse-complement', 'auto')\u001b[0m\n",
      "                         Direction of reads with respect to reference\n",
      "                         sequences. same will cause reads to be classified\n",
      "                         unchanged; reverse-complement will cause reads to be\n",
      "                         reversed and complemented prior to classification.\n",
      "                         \"auto\" will autodetect orientation based on the\n",
      "                         confidence estimates for the first 100 reads.\n",
      "                                                             \u001b[35m[default: 'auto']\u001b[0m\n",
      "\u001b[1mOutputs\u001b[0m:\n",
      "  \u001b[34m\u001b[4m--o-classification\u001b[0m ARTIFACT \u001b[32mFeatureData[Taxonomy]\u001b[0m\n",
      "                                                                    \u001b[35m[required]\u001b[0m\n",
      "\u001b[1mMiscellaneous\u001b[0m:\n",
      "  \u001b[34m--output-dir\u001b[0m PATH      Output unspecified results to a directory\n",
      "  \u001b[34m--verbose\u001b[0m / \u001b[34m--quiet\u001b[0m    Display verbose output to stdout and/or stderr\n",
      "                         during execution of this action. Or silence output if\n",
      "                         execution is successful (silence is golden).\n",
      "  \u001b[34m--citations\u001b[0m            Show citations and exit.\n",
      "  \u001b[34m--help\u001b[0m                 Show this message and exit.\n",
      "\n",
      "\u001b[33m                  There were some problems with the command:                  \u001b[0m\n",
      "\u001b[31m\u001b[1m (1/4) Missing option \"--i-reads\".\u001b[0m\n",
      "\u001b[31m\u001b[1m (2/4) Missing option \"--i-classifier\".\u001b[0m\n",
      "\u001b[31m\u001b[1m (3/4) Missing option \"--o-classification\".  (\"--output-dir\" may also be used)\u001b[0m\n",
      "\u001b[31m\u001b[1m (4/4) Got unexpected extra argument (\\)\u001b[0m\n"
     ]
    }
   ],
   "source": [
    "! qiime feature-classifier classify-sklearn \\"
   ]
  },
  {
   "cell_type": "markdown",
   "metadata": {},
   "source": [
    "The cell below takes a long time to run (>1 hr)..."
   ]
  },
  {
   "cell_type": "code",
   "execution_count": 20,
   "metadata": {},
   "outputs": [
    {
     "name": "stdout",
     "output_type": "stream",
     "text": [
      "\u001b[32mSaved FeatureData[Taxonomy] to: work/classified_sequences/classification.qza\u001b[0m\n"
     ]
    }
   ],
   "source": [
    "# And try to assign taxonomy again\n",
    "\n",
    "# Classify the representative sequences\n",
    "! qiime feature-classifier classify-sklearn \\\n",
    "--i-classifier work/silva-132-99-515-806-nb-classifier.qza \\\n",
    "--i-reads work/DADA2_denoising_output/representative_sequences.qza \\\n",
    "--output-dir work/classified_sequences \\\n",
    "--verbose"
   ]
  },
  {
   "cell_type": "code",
   "execution_count": 23,
   "metadata": {},
   "outputs": [
    {
     "name": "stdout",
     "output_type": "stream",
     "text": [
      "\u001b[32mSaved Visualization to: work/classified_sequences/taxonomy.qzv\u001b[0m\n"
     ]
    },
    {
     "data": {
      "text/html": [
       "<div><img onload=\"(function(div, url){\n",
       "if (typeof require !== 'undefined') {\n",
       "    var baseURL = require.toUrl('').split('/').slice(0, -2).join('/');\n",
       "} else {\n",
       "    var baseURL = JSON.parse(\n",
       "        document.getElementById('jupyter-config-data').innerHTML\n",
       "    ).baseUrl.slice(0, -1);\n",
       "}\n",
       "url = baseURL + url;\n",
       "fetch(url).then(function(res) {\n",
       "    if (res.status === 404) {\n",
       "        div.innerHTML = 'Install QIIME 2 Jupyter extension with:<br />' +\n",
       "                        '<code>jupyter serverextension enable --py qiime2' +\n",
       "                        ' --sys-prefix</code><br />then restart your server.' +\n",
       "                        '<br /><br />(Interactive output not available on ' +\n",
       "                        'static notebook viewer services like nbviewer.)';\n",
       "    } else if (res.status === 409) {\n",
       "        div.innerHTML = 'Visualization no longer in scope. Re-run this cell' +\n",
       "                        ' to see the visualization.';\n",
       "    } else if (res.ok) {\n",
       "        url = res.url;\n",
       "        div.innerHTML = '<iframe src=\\'' + url + '\\' style=\\'' +\n",
       "                        'width: 100%; height: 700px; border: 0;\\'>' +\n",
       "                        '</iframe><hr />Open in a: <a href=\\'' + url + '\\'' +\n",
       "                        ' target=\\'_blank\\'>new window</a>'\n",
       "    } else {\n",
       "        div.innerHTML = 'Something has gone wrong. Check notebook server for' +\n",
       "                        ' errors.';\n",
       "    }\n",
       "});\n",
       "})(this.parentElement, '/qiime2/redirect?location=/tmp/qiime2-archive-ib7hyys0')\" src=\"data:image/gif;base64,R0lGODlhAQABAIAAAP///wAAACH5BAEAAAAALAAAAAABAAEAAAICRAEAOw==\" /></div>"
      ],
      "text/plain": [
       "<visualization: Visualization uuid: fe52932b-9634-45ee-b280-631ca654c319>"
      ]
     },
     "execution_count": 23,
     "metadata": {},
     "output_type": "execute_result"
    }
   ],
   "source": [
    "# and visualize\n",
    "! qiime metadata tabulate \\\n",
    "  --m-input-file work/classified_sequences/classification.qza \\\n",
    "  --o-visualization work/classified_sequences/taxonomy.qzv"
   ]
  },
  {
   "cell_type": "code",
   "execution_count": 25,
   "metadata": {},
   "outputs": [
    {
     "data": {
      "text/html": [
       "<div><img onload=\"(function(div, url){\n",
       "if (typeof require !== 'undefined') {\n",
       "    var baseURL = require.toUrl('').split('/').slice(0, -2).join('/');\n",
       "} else {\n",
       "    var baseURL = JSON.parse(\n",
       "        document.getElementById('jupyter-config-data').innerHTML\n",
       "    ).baseUrl.slice(0, -1);\n",
       "}\n",
       "url = baseURL + url;\n",
       "fetch(url).then(function(res) {\n",
       "    if (res.status === 404) {\n",
       "        div.innerHTML = 'Install QIIME 2 Jupyter extension with:<br />' +\n",
       "                        '<code>jupyter serverextension enable --py qiime2' +\n",
       "                        ' --sys-prefix</code><br />then restart your server.' +\n",
       "                        '<br /><br />(Interactive output not available on ' +\n",
       "                        'static notebook viewer services like nbviewer.)';\n",
       "    } else if (res.status === 409) {\n",
       "        div.innerHTML = 'Visualization no longer in scope. Re-run this cell' +\n",
       "                        ' to see the visualization.';\n",
       "    } else if (res.ok) {\n",
       "        url = res.url;\n",
       "        div.innerHTML = '<iframe src=\\'' + url + '\\' style=\\'' +\n",
       "                        'width: 100%; height: 700px; border: 0;\\'>' +\n",
       "                        '</iframe><hr />Open in a: <a href=\\'' + url + '\\'' +\n",
       "                        ' target=\\'_blank\\'>new window</a>'\n",
       "    } else {\n",
       "        div.innerHTML = 'Something has gone wrong. Check notebook server for' +\n",
       "                        ' errors.';\n",
       "    }\n",
       "});\n",
       "})(this.parentElement, '/qiime2/redirect?location=/tmp/qiime2-archive-l5hooocz')\" src=\"data:image/gif;base64,R0lGODlhAQABAIAAAP///wAAACH5BAEAAAAALAAAAAABAAEAAAICRAEAOw==\" /></div>"
      ],
      "text/plain": [
       "<visualization: Visualization uuid: fe52932b-9634-45ee-b280-631ca654c319>"
      ]
     },
     "execution_count": 25,
     "metadata": {},
     "output_type": "execute_result"
    }
   ],
   "source": [
    "q2.Visualization.load(\"work/classified_sequences/taxonomy.qzv\")"
   ]
  },
  {
   "cell_type": "markdown",
   "metadata": {},
   "source": [
    "### Create phylogenetic tree \n",
    "\n",
    "Next, we are going to make a phylogenetic tree file with our representative sequences. This is useful for some downstream analyses such as UniFrac.\n",
    "\n",
    "In QIIME2, you can make an alignment *de novo* or align to a reference tree. To see further description of each of these, see the QIIME2 tutorial [here](https://docs.qiime2.org/2019.10/tutorials/phylogeny/).  Here, I will use the de novo approach. "
   ]
  },
  {
   "cell_type": "code",
   "execution_count": 24,
   "metadata": {},
   "outputs": [],
   "source": [
    "# make new directory for results of alignment\n",
    "! mkdir work/phylogeny"
   ]
  },
  {
   "cell_type": "markdown",
   "metadata": {},
   "source": [
    "Next make a multiple sequence alignment with MAFFT ([documentation](https://docs.qiime2.org/2020.2/plugins/available/alignment/mafft/))"
   ]
  },
  {
   "cell_type": "code",
   "execution_count": 26,
   "metadata": {},
   "outputs": [
    {
     "name": "stdout",
     "output_type": "stream",
     "text": [
      "\u001b[32mSaved FeatureData[AlignedSequence] to: phylogeny/aligned-rep-seqs.qza\u001b[0m\n"
     ]
    }
   ],
   "source": [
    "! qiime alignment mafft \\\n",
    "  --i-sequences work/DADA2_denoising_output/representative_sequences.qza \\\n",
    "  --o-alignment work/phylogeny/aligned-rep-seqs.qza"
   ]
  },
  {
   "cell_type": "markdown",
   "metadata": {},
   "source": [
    "Next you want to mask the alignment, which reduces noise from ambigously aligned regions (see qiime2 link above for more detail):"
   ]
  },
  {
   "cell_type": "code",
   "execution_count": 27,
   "metadata": {},
   "outputs": [
    {
     "name": "stdout",
     "output_type": "stream",
     "text": [
      "\u001b[32mSaved FeatureData[AlignedSequence] to: phylogeny/masked-aligned-rep-seqs.qza\u001b[0m\n"
     ]
    }
   ],
   "source": [
    "! qiime alignment mask \\\n",
    "  --i-alignment work/phylogeny/aligned-rep-seqs.qza \\\n",
    "  --o-masked-alignment work/phylogeny/masked-aligned-rep-seqs.qza"
   ]
  },
  {
   "cell_type": "markdown",
   "metadata": {},
   "source": [
    "Next is constructing the phylogeny. I will use fasttree here, but there are multiple options, all described in the linked QIIME2 page above."
   ]
  },
  {
   "cell_type": "code",
   "execution_count": 28,
   "metadata": {},
   "outputs": [
    {
     "name": "stdout",
     "output_type": "stream",
     "text": [
      "\u001b[32mSaved Phylogeny[Unrooted] to: phylogeny/fasttree-tree.qza\u001b[0m\n"
     ]
    }
   ],
   "source": [
    "! qiime phylogeny fasttree \\\n",
    "  --i-alignment work/phylogeny/masked-aligned-rep-seqs.qza \\\n",
    "  --o-tree work/phylogeny/fasttree-tree.qza"
   ]
  },
  {
   "cell_type": "markdown",
   "metadata": {},
   "source": [
    "Next, you must root the tree in order to be able to use it in UniFrac"
   ]
  },
  {
   "cell_type": "code",
   "execution_count": 29,
   "metadata": {},
   "outputs": [
    {
     "name": "stdout",
     "output_type": "stream",
     "text": [
      "\u001b[32mSaved Phylogeny[Rooted] to: phylogeny/fasttree-tree-rooted.qza\u001b[0m\n"
     ]
    }
   ],
   "source": [
    "! qiime phylogeny midpoint-root \\\n",
    "  --i-tree work/phylogeny/fasttree-tree.qza \\\n",
    "  --o-rooted-tree work/phylogeny/fasttree-tree-rooted.qza"
   ]
  },
  {
   "cell_type": "markdown",
   "metadata": {},
   "source": [
    "Note that all of the steps above (mafft alignment> mask> fasttree> midpoint root) could have been run with one command, `align-to-tree-mafft-fasttree`."
   ]
  },
  {
   "cell_type": "markdown",
   "metadata": {},
   "source": [
    "### Export\n",
    "\n",
    "Next, like in Happy Belly, we want to export the major files we generated for downstream analyses: 1) the count table (aka feature table/ ASV table/ OTU table), 2) the fasta file, and 3) the taxonomy file. In addition, I will also export the tree file.\n"
   ]
  },
  {
   "cell_type": "code",
   "execution_count": 30,
   "metadata": {},
   "outputs": [],
   "source": [
    "! mkdir export"
   ]
  },
  {
   "cell_type": "code",
   "execution_count": 32,
   "metadata": {},
   "outputs": [
    {
     "name": "stdout",
     "output_type": "stream",
     "text": [
      "\u001b[32mExported DADA2_denoising_output/table.qza as BIOMV210DirFmt to directory export/table\u001b[0m\n"
     ]
    }
   ],
   "source": [
    "! qiime tools export \\\n",
    "  --input-path work/DADA2_denoising_output/table.qza \\\n",
    "  --output-path work/export/table"
   ]
  },
  {
   "cell_type": "markdown",
   "metadata": {},
   "source": [
    "The above file is in [BIOM format](http://biom-format.org/documentation/format_versions/biom-2.1.html). You may want to put in in tsv format is you are going to be using it in R"
   ]
  },
  {
   "cell_type": "code",
   "execution_count": 36,
   "metadata": {},
   "outputs": [],
   "source": [
    "! biom convert \\\n",
    "-i work/export/table/feature-table.biom \\\n",
    "-o work/export/table/table.tsv --to-tsv"
   ]
  },
  {
   "cell_type": "markdown",
   "metadata": {},
   "source": [
    "2) Next export the fasta files with the representative sequences"
   ]
  },
  {
   "cell_type": "code",
   "execution_count": 34,
   "metadata": {},
   "outputs": [
    {
     "name": "stdout",
     "output_type": "stream",
     "text": [
      "\u001b[32mExported DADA2_denoising_output/representative_sequences.qza as DNASequencesDirectoryFormat to directory export/rep-seqs.fasta\u001b[0m\n"
     ]
    }
   ],
   "source": [
    "! qiime tools export \\\n",
    "  --input-path work/DADA2_denoising_output/representative_sequences.qza \\\n",
    "  --output-path work/export/rep-seqs.fasta"
   ]
  },
  {
   "cell_type": "markdown",
   "metadata": {},
   "source": [
    "3) Export the taxonomy file"
   ]
  },
  {
   "cell_type": "code",
   "execution_count": 35,
   "metadata": {},
   "outputs": [
    {
     "name": "stdout",
     "output_type": "stream",
     "text": [
      "\u001b[32mExported classified_sequences/classification.qza as TSVTaxonomyDirectoryFormat to directory export/taxonomy\u001b[0m\n"
     ]
    }
   ],
   "source": [
    "! qiime tools export \\\n",
    "  --input-path work/classified_sequences/classification.qza \\\n",
    "  --output-path work/export/taxonomy"
   ]
  },
  {
   "cell_type": "markdown",
   "metadata": {},
   "source": [
    "4) And lastly the tree file"
   ]
  },
  {
   "cell_type": "code",
   "execution_count": 37,
   "metadata": {},
   "outputs": [
    {
     "name": "stdout",
     "output_type": "stream",
     "text": [
      "\u001b[32mExported phylogeny/fasttree-tree-rooted.qza as NewickDirectoryFormat to directory export/exported-tree\u001b[0m\n"
     ]
    }
   ],
   "source": [
    "! qiime tools export \\\n",
    "  --input-path work/phylogeny/fasttree-tree-rooted.qza \\\n",
    "  --output-path work/export/exported-tree"
   ]
  },
  {
   "cell_type": "markdown",
   "metadata": {},
   "source": [
    "### Save\n",
    "\n",
    "And that's it! Our results files are all in the 'export' folder. You can dowload these directly to your local computer by right-clicking on the folder object on the left. You can also go back to the Discovery Environment and select \"Complete and Save Outputs,\" which will save these files to your 'Analyses' folder in the data store. To make sure you get everything you need, I recommend adding files to your data store using the iCommands. \n",
    "\n",
    "I will add my 'work' folder and my notebook to my Data Store using iCommands as an example:\n"
   ]
  },
  {
   "cell_type": "code",
   "execution_count": 1,
   "metadata": {},
   "outputs": [
    {
     "name": "stdout",
     "output_type": "stream",
     "text": [
      "Running recursive pre-scan... pre-scan complete... transferring data...\n"
     ]
    }
   ],
   "source": [
    "! iput -r work/export/ "
   ]
  },
  {
   "cell_type": "code",
   "execution_count": null,
   "metadata": {},
   "outputs": [],
   "source": [
    "! iput HappyBellyDemo.ipynb"
   ]
  }
 ],
 "metadata": {
  "kernelspec": {
   "display_name": "Python 3",
   "language": "python",
   "name": "python3"
  },
  "language_info": {
   "codemirror_mode": {
    "name": "ipython",
    "version": 3
   },
   "file_extension": ".py",
   "mimetype": "text/x-python",
   "name": "python",
   "nbconvert_exporter": "python",
   "pygments_lexer": "ipython3",
   "version": "3.7.6"
  }
 },
 "nbformat": 4,
 "nbformat_minor": 4
}
